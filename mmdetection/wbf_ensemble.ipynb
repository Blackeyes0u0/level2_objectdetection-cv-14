{
 "cells": [
  {
   "cell_type": "code",
   "execution_count": 78,
   "id": "6ebe6ecf-3b45-4c72-8035-1df682406322",
   "metadata": {},
   "outputs": [
    {
     "name": "stdout",
     "output_type": "stream",
     "text": [
      "Requirement already satisfied: ensemble_boxes in /opt/conda/envs/detection/lib/python3.7/site-packages (1.0.9)\n",
      "Requirement already satisfied: numpy in /opt/conda/envs/detection/lib/python3.7/site-packages (from ensemble_boxes) (1.21.5)\n",
      "Requirement already satisfied: pandas in /opt/conda/envs/detection/lib/python3.7/site-packages (from ensemble_boxes) (1.1.5)\n",
      "Requirement already satisfied: numba in /opt/conda/envs/detection/lib/python3.7/site-packages (from ensemble_boxes) (0.56.4)\n",
      "Requirement already satisfied: llvmlite<0.40,>=0.39.0dev0 in /opt/conda/envs/detection/lib/python3.7/site-packages (from numba->ensemble_boxes) (0.39.1)\n",
      "Requirement already satisfied: setuptools in /opt/conda/envs/detection/lib/python3.7/site-packages (from numba->ensemble_boxes) (65.6.3)\n",
      "Requirement already satisfied: importlib-metadata in /opt/conda/envs/detection/lib/python3.7/site-packages (from numba->ensemble_boxes) (6.5.0)\n",
      "Requirement already satisfied: python-dateutil>=2.7.3 in /opt/conda/envs/detection/lib/python3.7/site-packages (from pandas->ensemble_boxes) (2.8.2)\n",
      "Requirement already satisfied: pytz>=2017.2 in /opt/conda/envs/detection/lib/python3.7/site-packages (from pandas->ensemble_boxes) (2023.3)\n",
      "Requirement already satisfied: six>=1.5 in /opt/conda/envs/detection/lib/python3.7/site-packages (from python-dateutil>=2.7.3->pandas->ensemble_boxes) (1.16.0)\n",
      "Requirement already satisfied: zipp>=0.5 in /opt/conda/envs/detection/lib/python3.7/site-packages (from importlib-metadata->numba->ensemble_boxes) (3.15.0)\n",
      "Requirement already satisfied: typing-extensions>=3.6.4 in /opt/conda/envs/detection/lib/python3.7/site-packages (from importlib-metadata->numba->ensemble_boxes) (4.3.0)\n",
      "\u001b[33mWARNING: Running pip as the 'root' user can result in broken permissions and conflicting behaviour with the system package manager. It is recommended to use a virtual environment instead: https://pip.pypa.io/warnings/venv\u001b[0m\u001b[33m\n",
      "\u001b[0m"
     ]
    },
    {
     "data": {
      "text/plain": [
       "'\\nhttps://github.com/ZFTurbo/Weighted-Boxes-Fusion\\n'"
      ]
     },
     "execution_count": 78,
     "metadata": {},
     "output_type": "execute_result"
    }
   ],
   "source": [
    "# Weighted Boxes Fusion 적용\n",
    "\n",
    "!pip3 install ensemble_boxes\n",
    "'''\n",
    "https://github.com/ZFTurbo/Weighted-Boxes-Fusion\n",
    "'''"
   ]
  },
  {
   "cell_type": "code",
   "execution_count": 79,
   "id": "4ea20cca-286d-4f08-bc50-9ac87c713ca8",
   "metadata": {},
   "outputs": [],
   "source": [
    "import pandas as pd\n",
    "from ensemble_boxes import *\n",
    "import numpy as np\n",
    "from pycocotools.coco import COCO\n",
    "from tqdm import tqdm"
   ]
  },
  {
   "cell_type": "code",
   "execution_count": 80,
   "id": "2c35c17e-f80b-4076-966c-ff5b72ef13e7",
   "metadata": {},
   "outputs": [],
   "source": [
    "# ensemble csv files\n",
    "\n",
    "### Example ###\n",
    "submission_files = ['/opt/ml/baseline/mmdetection/work_dirs/ensemble/conv_xlarge_fold_1.csv', \n",
    "                    '/opt/ml/baseline/mmdetection/work_dirs/ensemble/conv_xlarge_fold_2.csv', \n",
    "                    '/opt/ml/baseline/mmdetection/work_dirs/ensemble/conv_xlarge_fold_3.csv', \n",
    "                    '/opt/ml/baseline/mmdetection/work_dirs/ensemble/conv_xlarge_fold_4.csv', \n",
    "                    '/opt/ml/baseline/mmdetection/work_dirs/ensemble/conv_xlarge_fold_5.csv',   \n",
    "                    '/opt/ml/baseline/mmdetection/work_dirs/ensemble/yolo.csv'] # submission csv 파일 경로 넣기\n",
    "\n",
    "# submission_files = ['/opt/ml/baseline/mmdetection/work_dirs/ensemble/convnext_xl_ens.csv', \n",
    "#                     '/opt/ml/baseline/mmdetection/work_dirs/ensemble/swin_tta.csv',\n",
    "#                     '/opt/ml/baseline/mmdetection/work_dirs/ensemble/yolo.csv'] # submission csv 파일 경로 넣기\n",
    "\n",
    "submission_df = [pd.read_csv(file) for file in submission_files]"
   ]
  },
  {
   "cell_type": "code",
   "execution_count": 81,
   "id": "37b54a1e-5aa8-47d1-bfae-800ce98d55c5",
   "metadata": {},
   "outputs": [],
   "source": [
    "image_ids = submission_df[0]['image_id'].tolist()\n",
    "assert len(image_ids)==4871"
   ]
  },
  {
   "cell_type": "code",
   "execution_count": 82,
   "id": "714fdcf3-f608-4802-a7ed-adf409ae4eb9",
   "metadata": {},
   "outputs": [
    {
     "name": "stdout",
     "output_type": "stream",
     "text": [
      "loading annotations into memory...\n",
      "Done (t=0.01s)\n",
      "creating index...\n",
      "index created!\n"
     ]
    }
   ],
   "source": [
    "annotation = '/opt/ml/dataset/test.json' ### test.json 경로 넣기 ###\n",
    "coco = COCO(annotation)"
   ]
  },
  {
   "cell_type": "code",
   "execution_count": 83,
   "id": "741c427b-dd9e-465d-a770-0e6e167c331c",
   "metadata": {},
   "outputs": [
    {
     "name": "stderr",
     "output_type": "stream",
     "text": [
      "100%|██████████| 4871/4871 [00:46<00:00, 105.38it/s]\n"
     ]
    }
   ],
   "source": [
    "prediction_strings = []\n",
    "file_names = []\n",
    "\n",
    "for i, image_id in tqdm(enumerate(image_ids), total=len(image_ids)):\n",
    "    prediction_string = ''\n",
    "    boxes_list = []\n",
    "    scores_list = []\n",
    "    labels_list = []\n",
    "    image_info = coco.loadImgs(i)[0]\n",
    "    \n",
    "    for df in submission_df:\n",
    "        predict_string = df[df['image_id'] == image_id]['PredictionString'].tolist()[0]\n",
    "        predict_list = str(predict_string).split()\n",
    "        \n",
    "        if len(predict_list)==0 or len(predict_list)==1:\n",
    "            continue\n",
    "            \n",
    "        predict_list = np.reshape(predict_list, (-1, 6))\n",
    "        box_list = []\n",
    "        \n",
    "        for box in predict_list[:, 2:6].tolist():\n",
    "            box[0] = float(box[0]) / image_info['width']\n",
    "            box[1] = float(box[1]) / image_info['height']\n",
    "            box[2] = float(box[2]) / image_info['width']\n",
    "            box[3] = float(box[3]) / image_info['height']\n",
    "            box_list.append(box)\n",
    "            \n",
    "        boxes_list.append(box_list)\n",
    "        scores_list.append(list(map(float, predict_list[:, 1].tolist())))\n",
    "        labels_list.append(list(map(int, predict_list[:, 0].tolist())))\n",
    "    \n",
    "    if len(boxes_list):\n",
    "        # boxes, scores, labels = nms(boxes_list, scores_list, labels_list,iou_thr=iou_thr)\n",
    "        # boxes, scores, labels = soft_nms(box_list, scores_list, labels_list, iou_thr=iou_thr)\n",
    "        # boxes, scores, labels = non_maximum_weighted(boxes_list, scores_list, labels_list,iou_thr=iou_thr)\n",
    "        # boxes, scores, labels = weighted_boxes_fusion(boxes_list, scores_list, labels_list,iou_thr=0.5,conf_type='box_and_model_avg')\n",
    "        boxes, scores, labels = weighted_boxes_fusion(boxes_list, scores_list, labels_list,iou_thr=0.55)\n",
    "\n",
    "        for box, score, label in zip(boxes, scores, labels):\n",
    "            prediction_string += str(int(label)) + ' ' + str(score) + ' ' + str(box[0] * image_info['width']) + ' ' + str(box[1] * image_info['height']) + ' ' + str(box[2] * image_info['width']) + ' ' + str(box[3] * image_info['height']) + ' '\n",
    "    \n",
    "    prediction_strings.append(prediction_string)\n",
    "    file_names.append(image_id)"
   ]
  },
  {
   "cell_type": "code",
   "execution_count": 84,
   "id": "3357e837-fea2-4fb2-994d-124d8087cbe4",
   "metadata": {},
   "outputs": [
    {
     "data": {
      "text/html": [
       "<div>\n",
       "<style scoped>\n",
       "    .dataframe tbody tr th:only-of-type {\n",
       "        vertical-align: middle;\n",
       "    }\n",
       "\n",
       "    .dataframe tbody tr th {\n",
       "        vertical-align: top;\n",
       "    }\n",
       "\n",
       "    .dataframe thead th {\n",
       "        text-align: right;\n",
       "    }\n",
       "</style>\n",
       "<table border=\"1\" class=\"dataframe\">\n",
       "  <thead>\n",
       "    <tr style=\"text-align: right;\">\n",
       "      <th></th>\n",
       "      <th>PredictionString</th>\n",
       "      <th>image_id</th>\n",
       "    </tr>\n",
       "  </thead>\n",
       "  <tbody>\n",
       "    <tr>\n",
       "      <th>0</th>\n",
       "      <td>7 0.9956475496292114 603.0321044921875 520.159...</td>\n",
       "      <td>test/0000.jpg</td>\n",
       "    </tr>\n",
       "    <tr>\n",
       "      <th>1</th>\n",
       "      <td>5 0.9546069502830505 131.85926818847656 0.0047...</td>\n",
       "      <td>test/0001.jpg</td>\n",
       "    </tr>\n",
       "    <tr>\n",
       "      <th>2</th>\n",
       "      <td>1 0.980384886264801 300.74761962890625 313.061...</td>\n",
       "      <td>test/0002.jpg</td>\n",
       "    </tr>\n",
       "    <tr>\n",
       "      <th>3</th>\n",
       "      <td>9 0.9408607482910156 143.54354858398438 261.36...</td>\n",
       "      <td>test/0003.jpg</td>\n",
       "    </tr>\n",
       "    <tr>\n",
       "      <th>4</th>\n",
       "      <td>1 0.8013185362021128 188.9235076904297 261.620...</td>\n",
       "      <td>test/0004.jpg</td>\n",
       "    </tr>\n",
       "  </tbody>\n",
       "</table>\n",
       "</div>"
      ],
      "text/plain": [
       "                                    PredictionString       image_id\n",
       "0  7 0.9956475496292114 603.0321044921875 520.159...  test/0000.jpg\n",
       "1  5 0.9546069502830505 131.85926818847656 0.0047...  test/0001.jpg\n",
       "2  1 0.980384886264801 300.74761962890625 313.061...  test/0002.jpg\n",
       "3  9 0.9408607482910156 143.54354858398438 261.36...  test/0003.jpg\n",
       "4  1 0.8013185362021128 188.9235076904297 261.620...  test/0004.jpg"
      ]
     },
     "execution_count": 84,
     "metadata": {},
     "output_type": "execute_result"
    }
   ],
   "source": [
    "submission = pd.DataFrame()\n",
    "submission['PredictionString'] = prediction_strings\n",
    "submission['image_id'] = file_names\n",
    "submission.to_csv('/opt/ml/baseline/mmdetection/work_dirs/ensemble/submission_ensemble_6_yolo.csv')\n",
    "\n",
    "submission.head()"
   ]
  },
  {
   "cell_type": "code",
   "execution_count": null,
   "id": "a5cf47b8-2ea9-4bb4-80db-457b109678dc",
   "metadata": {},
   "outputs": [],
   "source": []
  }
 ],
 "metadata": {
  "kernelspec": {
   "display_name": "detection",
   "language": "python",
   "name": "detection"
  },
  "language_info": {
   "codemirror_mode": {
    "name": "ipython",
    "version": 3
   },
   "file_extension": ".py",
   "mimetype": "text/x-python",
   "name": "python",
   "nbconvert_exporter": "python",
   "pygments_lexer": "ipython3",
   "version": "3.7.16"
  }
 },
 "nbformat": 4,
 "nbformat_minor": 5
}
